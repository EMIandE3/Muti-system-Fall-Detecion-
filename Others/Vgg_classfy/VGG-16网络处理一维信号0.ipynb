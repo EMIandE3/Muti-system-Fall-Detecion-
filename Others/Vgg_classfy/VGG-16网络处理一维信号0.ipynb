{
 "cells": [
  {
   "cell_type": "code",
   "execution_count": 1,
   "id": "3a074666",
   "metadata": {},
   "outputs": [
    {
     "name": "stderr",
     "output_type": "stream",
     "text": [
      "Using TensorFlow backend.\n"
     ]
    }
   ],
   "source": [
    "import keras\n",
    "from scipy.io import loadmat\n",
    "import matplotlib.pyplot as plt\n",
    "import glob\n",
    "import numpy as np\n",
    "import pandas as pd\n",
    "import math\n",
    "import os\n",
    "from keras.layers import *\n",
    "from keras.models import *\n",
    "from keras.optimizers import *"
   ]
  },
  {
   "cell_type": "code",
   "execution_count": 2,
   "id": "b9bc7624",
   "metadata": {},
   "outputs": [],
   "source": [
    "MANIFEST_DIR = r'E:\\A_Shi_Chuang\\cnn_-frft_-data-master\\train\\frfttrain1.0.csv'\n",
    "Batch_size = 30\n",
    "Long = 800\n",
    "Lens = 200\n",
    "def convert2oneHot(index, lens):\n",
    "    hot = np.zeros((lens,))\n",
    "    hot[int(index)] = 1\n",
    "    return(hot)\n"
   ]
  },
  {
   "cell_type": "code",
   "execution_count": 3,
   "id": "114df609",
   "metadata": {},
   "outputs": [],
   "source": [
    "def xs_gen(path=MANIFEST_DIR, batch_size=Batch_size, train=True, Lens=Lens):\n",
    "    img_list = pd.read_csv(path)\n",
    "    if train:\n",
    "        img_list = np.array(img_list)[:Lens]\n",
    "        print(\"Found %s train items.\" % len(img_list))\n",
    "        print(\"list 1 is\", img_list[0, -1])\n",
    "        steps = math.ceil(len(img_list) / batch_size)\n",
    "    else:\n",
    "        img_list = np.array(img_list)[Lens:]\n",
    "        print(\"Found %s test items.\" % len(img_list))\n",
    "        print(\"list 1 is\", img_list[0, -1])\n",
    "        steps = math.ceil(len(img_list) / batch_size)\n",
    "    while True:\n",
    "        for i in range(steps):\n",
    "            batch_list = img_list[i * batch_size: i * batch_size + batch_size]\n",
    "            np.random.shuffle(batch_list)\n",
    "            batch_x = np.array([file for file in batch_list[:, 1:-1]])\n",
    "            batch_y = np.array([convert2oneHot(label, 4) for label in batch_list[:, -1]])\n",
    "            yield batch_x, batch_y\n",
    "\n",
    "\n",
    "TEST_MANIFEST_DIR = r'E:\\A_Shi_Chuang\\cnn_-frft_-data-master\\test\\frfttest1.0.csv'"
   ]
  },
  {
   "cell_type": "code",
   "execution_count": 4,
   "id": "09511187",
   "metadata": {},
   "outputs": [],
   "source": [
    "def ts_gen(path=TEST_MANIFEST_DIR, batch_size=Batch_size):\n",
    "    img_list = pd.read_csv(path)\n",
    "    img_list = np.array(img_list)[:Lens]\n",
    "    print(\"Found %s test items.\" % len(img_list))\n",
    "    print(\"list 1 is\", img_list[0, -1])\n",
    "    steps = math.ceil(len(img_list) / batch_size)\n",
    "    while True:\n",
    "        for i in range(steps):\n",
    "            batch_list = img_list[i * batch_size:i * batch_size + batch_size]\n",
    "            batch_x = np.array([file for file in batch_list[:, 1:]])\n",
    "            yield batch_x\n",
    "\n",
    "\n",
    "TIME_PERIODS = 5000\n"
   ]
  },
  {
   "cell_type": "code",
   "execution_count": 5,
   "id": "819a4346",
   "metadata": {},
   "outputs": [],
   "source": [
    "def build_model(input_shape=(TIME_PERIODS,), num_classes=4):\n",
    "    model = Sequential()\n",
    "    model.add(Reshape((TIME_PERIODS, 1), input_shape=input_shape))\n",
    "\n",
    "    model.add(Conv1D(16, 8, strides=2, activation='relu', input_shape=(TIME_PERIODS, 1)))\n",
    "    model.add(Conv1D(16, 8, strides=2, activation='relu', padding=\"same\"))\n",
    "    model.add(MaxPooling1D(2))\n",
    "\n",
    "    model.add(Conv1D(64, 4, strides=2, activation='relu', padding=\"same\"))\n",
    "    model.add(Conv1D(64, 4, strides=2, activation='relu', padding=\"same\"))\n",
    "    model.add(MaxPooling1D(2))\n",
    "\n",
    "    model.add(Conv1D(256, 4, strides=2, activation='relu', padding=\"same\"))\n",
    "    model.add(Conv1D(256, 4, strides=2, activation='relu', padding=\"same\"))\n",
    "    model.add(MaxPooling1D(2))\n",
    "\n",
    "    model.add(Conv1D(512, 2, strides=1, activation='relu', padding=\"same\"))\n",
    "    model.add(Conv1D(512, 2, strides=1, activation='relu', padding=\"same\"))\n",
    "    model.add(MaxPooling1D(2))\n",
    "\n",
    "    \"\"\" model.add(Flatten())\n",
    "    model.add(Dropout(0.3))\n",
    "    model.add(Dense(256, activation='relu'))\"\"\"\n",
    "\n",
    "    model.add(GlobalAveragePooling1D())\n",
    "    model.add(Dropout(0.3))\n",
    "    model.add(Dense(num_classes, activation='softmax'))\n",
    "    return(model)\n",
    "\n",
    "\n",
    "Train = True"
   ]
  },
  {
   "cell_type": "code",
   "execution_count": 6,
   "id": "e3d1b51b",
   "metadata": {
    "scrolled": true
   },
   "outputs": [
    {
     "name": "stdout",
     "output_type": "stream",
     "text": [
      "Model: \"sequential_1\"\n",
      "_________________________________________________________________\n",
      "Layer (type)                 Output Shape              Param #   \n",
      "=================================================================\n",
      "reshape_1 (Reshape)          (None, 5000, 1)           0         \n",
      "_________________________________________________________________\n",
      "conv1d_1 (Conv1D)            (None, 2497, 16)          144       \n",
      "_________________________________________________________________\n",
      "conv1d_2 (Conv1D)            (None, 1249, 16)          2064      \n",
      "_________________________________________________________________\n",
      "max_pooling1d_1 (MaxPooling1 (None, 624, 16)           0         \n",
      "_________________________________________________________________\n",
      "conv1d_3 (Conv1D)            (None, 312, 64)           4160      \n",
      "_________________________________________________________________\n",
      "conv1d_4 (Conv1D)            (None, 156, 64)           16448     \n",
      "_________________________________________________________________\n",
      "max_pooling1d_2 (MaxPooling1 (None, 78, 64)            0         \n",
      "_________________________________________________________________\n",
      "conv1d_5 (Conv1D)            (None, 39, 256)           65792     \n",
      "_________________________________________________________________\n",
      "conv1d_6 (Conv1D)            (None, 20, 256)           262400    \n",
      "_________________________________________________________________\n",
      "max_pooling1d_3 (MaxPooling1 (None, 10, 256)           0         \n",
      "_________________________________________________________________\n",
      "conv1d_7 (Conv1D)            (None, 10, 512)           262656    \n",
      "_________________________________________________________________\n",
      "conv1d_8 (Conv1D)            (None, 10, 512)           524800    \n",
      "_________________________________________________________________\n",
      "max_pooling1d_4 (MaxPooling1 (None, 5, 512)            0         \n",
      "_________________________________________________________________\n",
      "global_average_pooling1d_1 ( (None, 512)               0         \n",
      "_________________________________________________________________\n",
      "dropout_1 (Dropout)          (None, 512)               0         \n",
      "_________________________________________________________________\n",
      "dense_1 (Dense)              (None, 4)                 2052      \n",
      "=================================================================\n",
      "Total params: 1,140,516\n",
      "Trainable params: 1,140,516\n",
      "Non-trainable params: 0\n",
      "_________________________________________________________________\n",
      "None\n",
      "Epoch 1/25\n",
      "Found 200 train items.\n",
      "list 1 is 2.0\n",
      "Found 600 test items.\n",
      "list 1 is 2.0\n",
      "6/6 [==============================] - 4s 687ms/step - loss: 1.2859 - accuracy: 0.3111 - val_loss: 1.2125 - val_accuracy: 0.2500\n",
      "\n",
      "Epoch 00001: val_loss improved from inf to 1.21255, saving model to best_model.01-1.2125.h5\n",
      "Epoch 2/25\n",
      "6/6 [==============================] - 1s 111ms/step - loss: 1.0810 - accuracy: 0.4412 - val_loss: 1.0277 - val_accuracy: 0.8883\n",
      "\n",
      "Epoch 00002: val_loss improved from 1.21255 to 1.02773, saving model to best_model.02-1.0277.h5\n",
      "Epoch 3/25\n",
      "6/6 [==============================] - 1s 105ms/step - loss: 0.9074 - accuracy: 0.8235 - val_loss: 0.8218 - val_accuracy: 0.7917\n",
      "\n",
      "Epoch 00003: val_loss improved from 1.02773 to 0.82184, saving model to best_model.03-0.8218.h5\n",
      "Epoch 4/25\n",
      "6/6 [==============================] - 1s 120ms/step - loss: 0.5995 - accuracy: 0.9000 - val_loss: 0.4858 - val_accuracy: 0.9700\n",
      "\n",
      "Epoch 00004: val_loss improved from 0.82184 to 0.48584, saving model to best_model.04-0.4858.h5\n",
      "Epoch 5/25\n",
      "6/6 [==============================] - 1s 103ms/step - loss: 0.3375 - accuracy: 0.9824 - val_loss: 0.2038 - val_accuracy: 0.9833\n",
      "\n",
      "Epoch 00005: val_loss improved from 0.48584 to 0.20384, saving model to best_model.05-0.2038.h5\n",
      "Epoch 6/25\n",
      "6/6 [==============================] - 1s 118ms/step - loss: 0.1214 - accuracy: 0.9824 - val_loss: 0.0821 - val_accuracy: 1.0000\n",
      "\n",
      "Epoch 00006: val_loss improved from 0.20384 to 0.08210, saving model to best_model.06-0.0821.h5\n",
      "Epoch 7/25\n",
      "6/6 [==============================] - 1s 111ms/step - loss: 0.0905 - accuracy: 0.9882 - val_loss: 0.0398 - val_accuracy: 1.0000\n",
      "\n",
      "Epoch 00007: val_loss improved from 0.08210 to 0.03983, saving model to best_model.07-0.0398.h5\n",
      "Epoch 8/25\n",
      "6/6 [==============================] - 1s 117ms/step - loss: 0.0390 - accuracy: 1.0000 - val_loss: 0.0245 - val_accuracy: 0.9983\n",
      "\n",
      "Epoch 00008: val_loss improved from 0.03983 to 0.02452, saving model to best_model.08-0.0245.h5\n",
      "Epoch 9/25\n",
      "6/6 [==============================] - 1s 112ms/step - loss: 0.0246 - accuracy: 0.9941 - val_loss: 0.0181 - val_accuracy: 0.9933\n",
      "\n",
      "Epoch 00009: val_loss improved from 0.02452 to 0.01812, saving model to best_model.09-0.0181.h5\n",
      "Epoch 10/25\n",
      "6/6 [==============================] - 1s 112ms/step - loss: 0.1023 - accuracy: 0.9588 - val_loss: 0.0124 - val_accuracy: 0.9950\n",
      "\n",
      "Epoch 00010: val_loss improved from 0.01812 to 0.01241, saving model to best_model.10-0.0124.h5\n",
      "Epoch 11/25\n",
      "6/6 [==============================] - 1s 111ms/step - loss: 0.0273 - accuracy: 0.9941 - val_loss: 0.0103 - val_accuracy: 0.9967\n",
      "\n",
      "Epoch 00011: val_loss improved from 0.01241 to 0.01035, saving model to best_model.11-0.0103.h5\n",
      "Epoch 12/25\n",
      "6/6 [==============================] - 1s 113ms/step - loss: 0.0266 - accuracy: 0.9882 - val_loss: 0.0289 - val_accuracy: 0.9967\n",
      "\n",
      "Epoch 00012: val_loss did not improve from 0.01035\n",
      "Epoch 13/25\n",
      "6/6 [==============================] - 1s 110ms/step - loss: 0.0213 - accuracy: 1.0000 - val_loss: 0.0148 - val_accuracy: 1.0000\n",
      "\n",
      "Epoch 00013: val_loss did not improve from 0.01035\n",
      "Epoch 14/25\n",
      "6/6 [==============================] - 1s 114ms/step - loss: 0.0735 - accuracy: 0.9765 - val_loss: 0.2692 - val_accuracy: 0.8767\n",
      "\n",
      "Epoch 00014: val_loss did not improve from 0.01035\n",
      "Epoch 15/25\n",
      "6/6 [==============================] - 1s 134ms/step - loss: 0.0856 - accuracy: 0.9556 - val_loss: 0.0049 - val_accuracy: 1.0000\n",
      "\n",
      "Epoch 00015: val_loss improved from 0.01035 to 0.00493, saving model to best_model.15-0.0049.h5\n",
      "Epoch 16/25\n",
      "6/6 [==============================] - 1s 119ms/step - loss: 0.0270 - accuracy: 0.9941 - val_loss: 0.0080 - val_accuracy: 0.9983\n",
      "\n",
      "Epoch 00016: val_loss did not improve from 0.00493\n",
      "Epoch 17/25\n",
      "6/6 [==============================] - 1s 128ms/step - loss: 0.0100 - accuracy: 1.0000 - val_loss: 0.0059 - val_accuracy: 1.0000\n",
      "\n",
      "Epoch 00017: val_loss did not improve from 0.00493\n",
      "Epoch 18/25\n",
      "6/6 [==============================] - 1s 119ms/step - loss: 0.0059 - accuracy: 1.0000 - val_loss: 0.0087 - val_accuracy: 0.9983\n",
      "\n",
      "Epoch 00018: val_loss did not improve from 0.00493\n",
      "Epoch 19/25\n",
      "6/6 [==============================] - 1s 143ms/step - loss: 0.0058 - accuracy: 1.0000 - val_loss: 0.0083 - val_accuracy: 0.9983\n",
      "\n",
      "Epoch 00019: val_loss did not improve from 0.00493\n",
      "Epoch 20/25\n",
      "6/6 [==============================] - 1s 128ms/step - loss: 0.0049 - accuracy: 1.0000 - val_loss: 0.0040 - val_accuracy: 1.0000\n",
      "\n",
      "Epoch 00020: val_loss improved from 0.00493 to 0.00396, saving model to best_model.20-0.0040.h5\n",
      "Epoch 21/25\n",
      "6/6 [==============================] - 1s 131ms/step - loss: 0.0022 - accuracy: 1.0000 - val_loss: 0.0023 - val_accuracy: 1.0000\n",
      "\n",
      "Epoch 00021: val_loss improved from 0.00396 to 0.00231, saving model to best_model.21-0.0023.h5\n",
      "Epoch 22/25\n",
      "6/6 [==============================] - 1s 115ms/step - loss: 0.0016 - accuracy: 1.0000 - val_loss: 0.0018 - val_accuracy: 1.0000\n",
      "\n",
      "Epoch 00022: val_loss improved from 0.00231 to 0.00176, saving model to best_model.22-0.0018.h5\n",
      "Epoch 23/25\n",
      "6/6 [==============================] - 1s 113ms/step - loss: 0.0013 - accuracy: 1.0000 - val_loss: 0.0014 - val_accuracy: 1.0000\n",
      "\n",
      "Epoch 00023: val_loss improved from 0.00176 to 0.00141, saving model to best_model.23-0.0014.h5\n",
      "Epoch 24/25\n",
      "6/6 [==============================] - 1s 109ms/step - loss: 0.0015 - accuracy: 1.0000 - val_loss: 0.0011 - val_accuracy: 1.0000\n",
      "\n",
      "Epoch 00024: val_loss improved from 0.00141 to 0.00114, saving model to best_model.24-0.0011.h5\n",
      "Epoch 25/25\n",
      "6/6 [==============================] - 1s 105ms/step - loss: 9.1380e-04 - accuracy: 1.0000 - val_loss: 9.6496e-04 - val_accuracy: 1.0000\n",
      "\n",
      "Epoch 00025: val_loss improved from 0.00114 to 0.00096, saving model to best_model.25-0.0010.h5\n"
     ]
    }
   ],
   "source": [
    "if __name__ == \"__main__\":\n",
    "    if Train == True:\n",
    "        train_iter = xs_gen()\n",
    "        val_iter = xs_gen(train=False)\n",
    "\n",
    "        ckpt = keras.callbacks.ModelCheckpoint(\n",
    "            filepath='best_model.{epoch:02d}-{val_loss:.4f}.h5',\n",
    "            monitor='val_loss', save_best_only=True, verbose=1\n",
    "        )\n",
    "\n",
    "        model = build_model()\n",
    "        opt = Adam(0.0002)\n",
    "        model.compile(loss='categorical_crossentropy',\n",
    "                      optimizer = opt, metrics=['accuracy'])\n",
    "        print(model.summary())\n",
    "\n",
    "        train_history = model.fit_generator(\n",
    "            generator=train_iter,\n",
    "            steps_per_epoch=Lens // Batch_size,\n",
    "            epochs=25,\n",
    "            initial_epoch=0,\n",
    "            validation_data=val_iter,\n",
    "            validation_steps=(Long - Lens) // Batch_size,\n",
    "            callbacks=[ckpt],\n",
    "        )\n",
    "\n",
    "        model.save(\"finishModel.h5\")\n",
    "    else:\n",
    "        test_iter = ts_gen()\n",
    "        model = load_model(\"best_model.49-0.00.h5\")\n",
    "        pres = model.predict_generator(generator=test_iter, steps=math.ceil(528 / Batch_size), verbose=1)\n",
    "        print(pres.shape)\n",
    "        ohpres = np.argmax(pres, axis=1)\n",
    "        print(ohpres.shape)\n",
    "        df = pd.DataFrame()\n",
    "        df[\"id\"] = np.arange(1, len(ohpres) + 1)\n",
    "        df[\"label\"] = ohpres\n",
    "        df.to_csv(\"predicts.csv\", index=None)\n",
    "        test_iter = ts_gen()\n",
    "        for x in test_iter:\n",
    "            x1 = x[0]\n",
    "            break\n",
    "        plt.plot(x1)\n",
    "        plt.show()\n"
   ]
  },
  {
   "cell_type": "code",
   "execution_count": 7,
   "id": "e585117c",
   "metadata": {},
   "outputs": [],
   "source": [
    "def show_train_history(train_history, train, validation):\n",
    "    plt.plot(train_history.history[train])\n",
    "    plt.plot(train_history.history[validation])\n",
    "    plt.ylabel('Train History')\n",
    "    plt.ylabel(train)\n",
    "    plt.xlabel('Epoch')\n",
    "    plt.legend(['train', 'validation'], loc='upper left')\n",
    "    plt.show()"
   ]
  },
  {
   "cell_type": "code",
   "execution_count": 8,
   "id": "435e7c5d",
   "metadata": {},
   "outputs": [
    {
     "data": {
      "image/png": "[encoded data removed]",
      "text/plain": [
       "<Figure size 432x288 with 1 Axes>"
      ]
     },
     "metadata": {
      "needs_background": "light"
     },
     "output_type": "display_data"
    }
   ],
   "source": [
    "show_train_history(train_history, 'accuracy', 'val_accuracy')"
   ]
  },
  {
   "cell_type": "code",
   "execution_count": 9,
   "id": "d7e34dcc",
   "metadata": {},
   "outputs": [
    {
     "data": {
      "image/png": "[encoded data removed]",
      "text/plain": [
       "<Figure size 432x288 with 1 Axes>"
      ]
     },
     "metadata": {
      "needs_background": "light"
     },
     "output_type": "display_data"
    }
   ],
   "source": [
    "show_train_history(train_history, 'loss', 'val_loss')"
   ]
  },
  {
   "cell_type": "code",
   "execution_count": 10,
   "id": "539fbd59",
   "metadata": {},
   "outputs": [
    {
     "data": {
      "image/png": "[encoded data removed]",
      "text/plain": [
       "<Figure size 432x288 with 1 Axes>"
      ]
     },
     "metadata": {
      "needs_background": "light"
     },
     "output_type": "display_data"
    }
   ],
   "source": [
    "plt.rcParams['font.sans-serif'] = ['SimHei']\n",
    "plt.figure(figsize=(6, 4))\n",
    "plt.plot(train_history.history['accuracy'], \"g--\", label=\"训练集准确率\")\n",
    "plt.plot(train_history.history['val_accuracy'], \"g\", label=\"验证集准确率\")\n",
    "plt.plot(train_history.history['loss'], \"r--\", label=\"训练集损失函数\")\n",
    "plt.plot(train_history.history['val_loss'], \"r\", label=\"验证集损失函数\")\n",
    "plt.title('模型的准确率和损失函数', fontsize=14)\n",
    "plt.ylabel('准确率和损失函数', fontsize=12)\n",
    "plt.xlabel('世代数', fontsize=12)\n",
    "plt.ylim(0)\n",
    "plt.legend()\n",
    "plt.show()"
   ]
  },
  {
   "cell_type": "code",
   "execution_count": 13,
   "id": "3cc53ef0",
   "metadata": {},
   "outputs": [],
   "source": [
    "testdata = train_history.history['val_accuracy']\n",
    "df = pd.DataFrame(testdata)\n",
    "df.to_csv(r'E:\\A_Shi_Chuang\\cnn_-frft_-data-master\\daochu.csv')"
   ]
  },
  {
   "cell_type": "code",
   "execution_count": 14,
   "id": "d7d35063",
   "metadata": {},
   "outputs": [],
   "source": [
    "file = r\"E:\\A_Shi_Chuang\\cnn_-frft_-data-master\\label\\shiyong22.csv\""
   ]
  },
  {
   "cell_type": "code",
   "execution_count": 15,
   "id": "52438f08",
   "metadata": {},
   "outputs": [],
   "source": [
    "all_df = pd.read_csv(file)"
   ]
  },
  {
   "cell_type": "code",
   "execution_count": 16,
   "id": "9e93ed74",
   "metadata": {},
   "outputs": [],
   "source": [
    "ndarray = all_df.values"
   ]
  },
  {
   "cell_type": "code",
   "execution_count": 17,
   "id": "ef8e195d",
   "metadata": {},
   "outputs": [
    {
     "data": {
      "text/plain": [
       "array([[1],\n",
       "       [1]], dtype=int64)"
      ]
     },
     "execution_count": 17,
     "metadata": {},
     "output_type": "execute_result"
    }
   ],
   "source": [
    "ndarray[:2]"
   ]
  },
  {
   "cell_type": "code",
   "execution_count": 18,
   "id": "cc3afe50",
   "metadata": {},
   "outputs": [
    {
     "name": "stdout",
     "output_type": "stream",
     "text": [
      "Found 200 test items.\n",
      "list 1 is 2.018626134\n",
      "18/18 [==============================] - 1s 44ms/step\n",
      "(520, 4)\n"
     ]
    }
   ],
   "source": [
    "test_iter = ts_gen()\n",
    "pres = model.predict_generator(generator=test_iter, steps=math.ceil(520 / Batch_size), verbose=1)\n",
    "print(pres.shape)"
   ]
  },
  {
   "cell_type": "code",
   "execution_count": 19,
   "id": "8ad71082",
   "metadata": {},
   "outputs": [
    {
     "name": "stdout",
     "output_type": "stream",
     "text": [
      "(200, 1)\n"
     ]
    }
   ],
   "source": [
    "print(ndarray.shape)"
   ]
  },
  {
   "cell_type": "code",
   "execution_count": 20,
   "id": "4ab17093",
   "metadata": {},
   "outputs": [
    {
     "name": "stdout",
     "output_type": "stream",
     "text": [
      "(520,)\n"
     ]
    },
    {
     "data": {
      "text/plain": [
       "array([0, 0, 1, 1, 0, 0, 1, 1, 1, 3, 0, 3, 0, 1, 0, 0, 3, 3, 2, 1, 2, 3,\n",
       "       3, 2, 0, 1, 2, 1, 3, 2, 3, 1, 2, 3, 0, 2, 3, 2, 1, 0, 1, 0, 0, 2,\n",
       "       3, 3, 1, 1, 1, 1, 3, 0, 2, 1, 1, 1, 3, 2, 3, 1, 1, 3, 1, 0, 0, 2,\n",
       "       2, 1, 2, 2, 0, 1, 0, 3, 2, 2, 3, 1, 3, 1, 3, 1, 0, 3, 1, 0, 3, 1,\n",
       "       3, 2, 2, 0, 1, 3, 3, 2, 3, 3, 2, 2, 2, 2, 3, 1, 1, 0, 0, 0, 0, 1,\n",
       "       2, 0, 0, 2, 1, 3, 3, 1, 0, 2, 1, 0, 0, 0, 1, 3, 0, 2, 1, 1, 0, 1,\n",
       "       0, 1, 3, 2, 3, 2, 3, 0, 0, 1, 3, 3, 1, 1, 0, 3, 3, 0, 3, 0, 1, 1,\n",
       "       1, 3, 1, 2, 0, 1, 1, 0, 0, 0, 1, 3, 0, 2, 1, 1, 0, 1, 0, 1, 3, 2,\n",
       "       3, 2, 3, 0, 0, 1, 3, 3, 1, 1, 0, 3, 3, 0, 3, 0, 1, 1, 1, 3, 1, 2,\n",
       "       0, 1], dtype=int64)"
      ]
     },
     "execution_count": 20,
     "metadata": {},
     "output_type": "execute_result"
    }
   ],
   "source": [
    "ohpres = np.argmax(pres, axis=1)\n",
    "print(ohpres.shape)\n",
    "ohpres=ohpres[:200]\n",
    "ohpres"
   ]
  },
  {
   "cell_type": "code",
   "execution_count": 21,
   "id": "39050f76",
   "metadata": {},
   "outputs": [],
   "source": [
    "import matplotlib.pyplot as plt\n",
    "from sklearn.metrics import confusion_matrix\n",
    "import numpy as np\n",
    "\n",
    "def cm_plot(original_label, predict_label, pic=None):\n",
    "    cm = confusion_matrix(original_label, predict_label)\n",
    "    plt.figure()\n",
    "    plt.matshow(cm, cmap=plt.cm.GnBu)\n",
    "    plt.colorbar()\n",
    "    for x in range(len(cm)):\n",
    "        for y in range(len(cm)):\n",
    "            plt.annotate(cm[x, y], xy=(x, y), horizontalalignment='center', verticalalignment='center')\n",
    "    plt.ylabel('Predicted label')\n",
    "    plt.xlabel('True label')\n",
    "    plt.title('Confusion Matrix')\n",
    "    if pic is not None:\n",
    "        plt.savefig(str(pic) + '.jpg')\n",
    "    plt.show()"
   ]
  },
  {
   "cell_type": "code",
   "execution_count": 22,
   "id": "3e49ec90",
   "metadata": {
    "scrolled": true
   },
   "outputs": [
    {
     "data": {
      "text/plain": [
       "<Figure size 432x288 with 0 Axes>"
      ]
     },
     "metadata": {},
     "output_type": "display_data"
    },
    {
     "data": {
      "image/png": "[encoded data removed]",
      "text/plain": [
       "<Figure size 288x288 with 2 Axes>"
      ]
     },
     "metadata": {
      "needs_background": "light"
     },
     "output_type": "display_data"
    }
   ],
   "source": [
    "plt.rcParams['font.sans-serif'] = 'SimHei'\n",
    "plt.rcParams['axes.unicode_minus'] = False\n",
    "cm_plot(ndarray, ohpres)"
   ]
  },
  {
   "cell_type": "code",
   "execution_count": 23,
   "id": "42188093",
   "metadata": {},
   "outputs": [
    {
     "data": {
      "text/plain": [
       "0.91"
      ]
     },
     "execution_count": 23,
     "metadata": {},
     "output_type": "execute_result"
    }
   ],
   "source": [
    "from sklearn.metrics import accuracy_score\n",
    "accuracy_score(ndarray, ohpres)"
   ]
  },
  {
   "cell_type": "code",
   "execution_count": 24,
   "id": "b1deedcf",
   "metadata": {},
   "outputs": [
    {
     "data": {
      "text/plain": [
       "[1.2859290440877278,\n",
       " 1.0789686090805952,\n",
       " 0.9081638104775372,\n",
       " 0.6019955680650824,\n",
       " 0.34134506127413583,\n",
       " 0.12427015865550321,\n",
       " 0.09375548439429086,\n",
       " 0.03900409691656629,\n",
       " 0.025454848566476035,\n",
       " 0.10685813772108625,\n",
       " 0.027991828289540374,\n",
       " 0.026795213055961272,\n",
       " 0.02184582655044163,\n",
       " 0.07153926406274824,\n",
       " 0.08564907040757437,\n",
       " 0.0276493768700782,\n",
       " 0.009535215500577846,\n",
       " 0.0061657177421319135,\n",
       " 0.005971780430306406,\n",
       " 0.004913349348284742,\n",
       " 0.0022332502446849554,\n",
       " 0.001572727778693661,\n",
       " 0.001361880509648472,\n",
       " 0.0015147413257235551,\n",
       " 0.000935323050190859]"
      ]
     },
     "execution_count": 24,
     "metadata": {},
     "output_type": "execute_result"
    }
   ],
   "source": [
    "train_history.history['loss']"
   ]
  },
  {
   "cell_type": "code",
   "execution_count": 25,
   "id": "54dcafaf",
   "metadata": {},
   "outputs": [
    {
     "data": {
      "text/plain": [
       "[1.2125493288040161,\n",
       " 1.0277326107025146,\n",
       " 0.8218408823013306,\n",
       " 0.485841304063797,\n",
       " 0.20383983850479126,\n",
       " 0.08210337162017822,\n",
       " 0.039826299995183945,\n",
       " 0.02451886609196663,\n",
       " 0.018116451799869537,\n",
       " 0.012406202964484692,\n",
       " 0.010347860865294933,\n",
       " 0.028925765305757523,\n",
       " 0.014773608185350895,\n",
       " 0.2691551744937897,\n",
       " 0.004931285046041012,\n",
       " 0.008006825111806393,\n",
       " 0.005900627467781305,\n",
       " 0.008707771077752113,\n",
       " 0.008265401236712933,\n",
       " 0.0039613754488527775,\n",
       " 0.002305080881342292,\n",
       " 0.0017596271354705095,\n",
       " 0.0014107772149145603,\n",
       " 0.0011355784954503179,\n",
       " 0.0009649559506215155]"
      ]
     },
     "execution_count": 25,
     "metadata": {},
     "output_type": "execute_result"
    }
   ],
   "source": [
    "train_history.history['val_loss']"
   ]
  },
  {
   "cell_type": "code",
   "execution_count": 26,
   "id": "39e8da16",
   "metadata": {},
   "outputs": [
    {
     "data": {
      "text/plain": [
       "[0.25,\n",
       " 0.8883333206176758,\n",
       " 0.7916666865348816,\n",
       " 0.9700000286102295,\n",
       " 0.9833333492279053,\n",
       " 1.0,\n",
       " 1.0,\n",
       " 0.9983333349227905,\n",
       " 0.9933333396911621,\n",
       " 0.9950000047683716,\n",
       " 0.996666669845581,\n",
       " 0.996666669845581,\n",
       " 1.0,\n",
       " 0.8766666650772095,\n",
       " 1.0,\n",
       " 0.9983333349227905,\n",
       " 1.0,\n",
       " 0.9983333349227905,\n",
       " 0.9983333349227905,\n",
       " 1.0,\n",
       " 1.0,\n",
       " 1.0,\n",
       " 1.0,\n",
       " 1.0,\n",
       " 1.0]"
      ]
     },
     "execution_count": 26,
     "metadata": {},
     "output_type": "execute_result"
    }
   ],
   "source": [
    "train_history.history['val_accuracy']"
   ]
  },
  {
   "cell_type": "code",
   "execution_count": 27,
   "id": "59ddefb5",
   "metadata": {},
   "outputs": [
    {
     "data": {
      "text/plain": [
       "[0.31111112,\n",
       " 0.44117647,\n",
       " 0.8235294,\n",
       " 0.9,\n",
       " 0.9823529,\n",
       " 0.9823529,\n",
       " 0.9882353,\n",
       " 1.0,\n",
       " 0.9941176,\n",
       " 0.9588235,\n",
       " 0.9941176,\n",
       " 0.9882353,\n",
       " 1.0,\n",
       " 0.9764706,\n",
       " 0.95555556,\n",
       " 0.9941176,\n",
       " 1.0,\n",
       " 1.0,\n",
       " 1.0,\n",
       " 1.0,\n",
       " 1.0,\n",
       " 1.0,\n",
       " 1.0,\n",
       " 1.0,\n",
       " 1.0]"
      ]
     },
     "execution_count": 27,
     "metadata": {},
     "output_type": "execute_result"
    }
   ],
   "source": [
    "train_history.history['accuracy']"
   ]
  },
  {
   "cell_type": "code",
   "execution_count": null,
   "id": "99d7d8a7",
   "metadata": {},
   "outputs": [],
   "source": []
  }
 ],
 "metadata": {
  "celltoolbar": "无",
  "kernelspec": {
   "display_name": "Python [conda env:py37tensorflow]",
   "language": "python",
   "name": "py37tensorflow"
  },
  "language_info": {
   "codemirror_mode": {
    "name": "ipython",
    "version": 3
   },
   "file_extension": ".py",
   "mimetype": "text/x-python",
   "name": "python",
   "nbconvert_exporter": "python",
   "pygments_lexer": "ipython3",
   "version": "3.7.10"
  }
 },
 "nbformat": 4,
 "nbformat_minor": 5
}
